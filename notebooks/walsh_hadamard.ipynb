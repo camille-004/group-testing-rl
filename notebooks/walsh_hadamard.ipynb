{
 "cells": [
  {
   "cell_type": "markdown",
   "metadata": {},
   "source": [
    "# Walsh-Hadamard Matrices\n",
    "A **Walsh-Hadamard matrix**, or simply a **Walsh matrix**, is a square matrix of dimensions $2^n$ whose entries contain either -1 or 1 and rows and columns are orthogonal. Each row corresponds to the **Walsh function**. Walsh functions are piecewise constant, and take on values -1 and 1. It's defined on subintervals given by dyadic fractions, or fractions whose denominators are powers of two. The complete orthogonal sequence of Walsh functions are $W_k:[0,1]\\rightarrow \\{ -1,1 \\},k\\in\\mathbb{N}_0$. The Walsh function is defined as:\n",
    "\n",
    "$W_k(x)=(-1)^{\\sum_{j=1}^{\\infty}k_jx_{j+1}}$, where $k_j$ is the $j$-th bit in the binary representation of a natural number $k$, starting with $k_0$ as the least significant (rightmost) bit, and $x_j$ is the the $j$-th bit in the binary representation of $x\\in[0,1]$, starting with $x_1$ as the most significant (leftmost) bit. \n",
    "\n",
    "The Walsh matrix is a special case of the **Hadamard matrix**. Now, we define the Hadamard matrix with the recursive formula, given the base conditions $H(2^1)$ and $H(2^2)$:\n",
    "\n",
    "$$H(2^1)=\\begin{bmatrix} 1 & 1 \\\\ 1 & -1\\end{bmatrix}$$\n",
    "$$H(2^1)=\\begin{bmatrix} 1 & 1 & 1 & 1 \\\\ 1 & -1 & 1 & -1 \\\\ 1 & 1 & -1 & -1 \\\\ 1 & -1 & -1 & 1\\end{bmatrix}$$\n",
    "\n",
    "In general:\n",
    "\n",
    "$$H(2^k)=\\begin{bmatrix}H(2^{k-1}) & H(2^{k-1}) \\\\ H(2^{k-1}) & -H(2^{k-1})\\end{bmatrix}$$\n",
    "\n",
    "Consider $H(4)$:\n",
    "\n",
    "$$H(4)=\\begin{bmatrix} 1 & 1 & 1 & 1 \\\\ 1 & -1 & 1 & -1 \\\\ 1 & 1 & -1 & -1 \\\\ 1 & -1 & -1 & 1\\end{bmatrix}$$\n",
    "\n",
    "The successive rows have 0, 3, 1, and 2 sign changes. Ordering the rows by the number of successive sign changes, we get $W(4)$.\n",
    "\n",
    "$$W(4)=\\begin{bmatrix} 1 & 1 & 1 & 1 \\\\ 1 & 1 & -1 & -1 \\\\ 1 & -1 & -1 & 1 \\\\ 1 & -1 & 1 & -1\\end{bmatrix}$$"
   ]
  },
  {
   "cell_type": "code",
   "execution_count": null,
   "metadata": {},
   "outputs": [],
   "source": []
  }
 ],
 "metadata": {
  "kernelspec": {
   "display_name": "Python 3.8.5 64-bit",
   "language": "python",
   "name": "python38564bit40f31465e77c45df95a515d1a253e522"
  },
  "language_info": {
   "codemirror_mode": {
    "name": "ipython",
    "version": 3
   },
   "file_extension": ".py",
   "mimetype": "text/x-python",
   "name": "python",
   "nbconvert_exporter": "python",
   "pygments_lexer": "ipython3",
   "version": "3.7.9"
  }
 },
 "nbformat": 4,
 "nbformat_minor": 4
}
