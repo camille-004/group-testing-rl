{
 "cells": [
  {
   "cell_type": "code",
   "execution_count": 74,
   "metadata": {},
   "outputs": [],
   "source": [
    "# Helper Functions\n",
    "def to_binary(n, N):\n",
    "    \"\"\"\n",
    "    Get binary representation of input n\n",
    "\n",
    "    :param n: Integer of which to get binary representation\n",
    "    :param N: Length of bitstring\n",
    "    :return: str\n",
    "    \"\"\"\n",
    "    return bin(n).replace('0b', '').zfill(N)\n",
    "\n",
    "\n",
    "def get_w_hat_t_helper(row_idx, col_idx, N):\n",
    "    \"\"\"\n",
    "    Helper function to get entry (t, col_idx) of W-H matrix\n",
    "\n",
    "    :param row_idx: Row index of W-H matrix to find\n",
    "    :param col_idx: Column index of W-H matrix to find\n",
    "    :param N: Order of W-H matrix\n",
    "    :return: int\n",
    "    \"\"\"\n",
    "    row_bin = to_binary(row_idx, N)\n",
    "    col_bin = to_binary(col_idx, N)\n",
    "\n",
    "    row_list = [int(row_bit) for row_bit in list(row_bin[::-1])]\n",
    "    col_list = [int(col_bit) for col_bit in list(col_bin[::-1])]\n",
    "\n",
    "    result = 0\n",
    "    for row_bit, col_bit in zip(row_list, col_list):\n",
    "        result += row_bit * col_bit\n",
    "\n",
    "    result = int((1 + ((-1) ** result)) / 2)\n",
    "#     return (2 * result) - 1\n",
    "    return result\n",
    "\n",
    "def get_x_vector(N, K):\n",
    "    \"\"\"\n",
    "    Return x from given order of WH matrix and K\n",
    "\n",
    "    :param N: Order of WH matrix\n",
    "    :param K: Number of ones\n",
    "    :return: numpy.ndarray\n",
    "    \"\"\"\n",
    "    x = np.zeros(N)\n",
    "    random_pos = np.random.choice(\n",
    "        np.arange(0, N), K, replace=False\n",
    "    )\n",
    "    x[random_pos] = 1\n",
    "    return x\n",
    "\n",
    "def get_w_hat_t(t_idx: int) -> list:\n",
    "    \"\"\"\n",
    "    Get t-th row of W-H matrix of order _N\n",
    "\n",
    "    :param t_idx: Index of row in W-H matrix\n",
    "    :return: list\n",
    "    \"\"\"\n",
    "    row = []\n",
    "    for i in range(N):\n",
    "        row.append(get_w_hat_t_helper(t_idx, i, N))\n",
    "\n",
    "    return row"
   ]
  },
  {
   "cell_type": "code",
   "execution_count": 76,
   "metadata": {},
   "outputs": [
    {
     "name": "stderr",
     "output_type": "stream",
     "text": [
      " 55%|█████▍    | 35/64 [00:00<00:00, 348.29it/s]"
     ]
    },
    {
     "name": "stdout",
     "output_type": "stream",
     "text": [
      "Original x: [0. 0. 1. 1. 1. 0. 0. 1. 0. 0. 1. 1. 0. 0. 0. 0. 0. 0. 0. 0. 0. 0. 1. 0.\n",
      " 0. 0. 1. 1. 1. 0. 1. 1. 1. 1. 0. 0. 0. 0. 0. 0. 1. 1. 1. 1. 1. 1. 0. 1.\n",
      " 1. 1. 0. 1. 1. 1. 1. 1. 1. 0. 0. 1. 0. 1. 0. 1.]\n",
      "--------------\n"
     ]
    },
    {
     "name": "stderr",
     "output_type": "stream",
     "text": [
      "100%|██████████| 64/64 [00:00<00:00, 121.62it/s]\n"
     ]
    },
    {
     "data": {
      "image/png": "[encoded data removed]",
      "text/plain": [
       "<Figure size 432x288 with 1 Axes>"
      ]
     },
     "metadata": {
      "needs_background": "light"
     },
     "output_type": "display_data"
    }
   ],
   "source": [
    "# TODO Come up with better loss function related to pseudoinverses\n",
    "# TODO Round numbers better (handle 0.5)\n",
    "\n",
    "import numpy as np\n",
    "import matplotlib.pyplot as plt\n",
    "from tqdm import tqdm\n",
    "# np.random.seed(0)\n",
    "\n",
    "K = 32\n",
    "N = 64\n",
    "\n",
    "x = np.zeros(N)\n",
    "random_pos = np.random.choice(np.arange(0, N), K, replace=False)\n",
    "x[random_pos] = 1\n",
    "\n",
    "# Get Walsh-Hadamard\n",
    "wh = [get_w_hat_t(i) for i in range(N)]\n",
    "print(f'Original x: {x}')\n",
    "print('--------------')\n",
    "\n",
    "def x_sample_rows(n_rows):\n",
    "    W_hat = np.empty((0, N))\n",
    "    loss = []\n",
    "\n",
    "    y = []\n",
    "    np.random.seed(0)\n",
    "    row_pos = np.random.choice(np.arange(0, N), n_rows, replace=False)\n",
    "\n",
    "    for row_idx in row_pos:\n",
    "        W_hat = np.vstack([W_hat, wh[row_idx]]) # stack of rows\n",
    "#         print(W_hat)\n",
    "        W_hat_inv = np.linalg.pinv(W_hat)\n",
    "        curr_y = x.dot(wh[row_idx])\n",
    "        y.append(curr_y)\n",
    "        x_tilde = np.round(W_hat_inv.dot(y)) # round numbers better\n",
    "        loss.append((x_tilde == x).all())\n",
    "        \n",
    "#     print(f'Number of rows = {n_rows}           {np.round(x_tilde)}')\n",
    "#     print(f'Number of rows = {n_rows}      {np.round(W_hat_inv @ W_hat, 2)}')\n",
    "#     print(W_hat)\n",
    "#     print(y)\n",
    "#     print(W_hat_inv.shape)\n",
    "    return x_tilde\n",
    "\n",
    "diff = []\n",
    "\n",
    "for i in tqdm(range(1, N + 1)):\n",
    "    diff.append(abs(np.mean(x_sample_rows(i) - x)))\n",
    "\n",
    "plt.plot(diff)\n",
    "plt.xlabel('Number of Rows to Generate x_tilde')\n",
    "plt.ylabel('Loss')\n",
    "plt.axvline(int(K * np.log2(N) / np.log2(K)), c='r', alpha=0.4)\n",
    "plt.title(f'Closeness to True x: K = {K}, N = {N}')\n",
    "plt.show()"
   ]
  },
  {
   "cell_type": "code",
   "execution_count": null,
   "metadata": {},
   "outputs": [],
   "source": []
  }
 ],
 "metadata": {
  "kernelspec": {
   "display_name": "Python 3.8.5 64-bit",
   "language": "python",
   "name": "python38564bit40f31465e77c45df95a515d1a253e522"
  },
  "language_info": {
   "codemirror_mode": {
    "name": "ipython",
    "version": 3
   },
   "file_extension": ".py",
   "mimetype": "text/x-python",
   "name": "python",
   "nbconvert_exporter": "python",
   "pygments_lexer": "ipython3",
   "version": "3.8.5"
  }
 },
 "nbformat": 4,
 "nbformat_minor": 4
}
