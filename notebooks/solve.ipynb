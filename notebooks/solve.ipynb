{
 "cells": [
  {
   "cell_type": "code",
   "execution_count": 47,
   "metadata": {},
   "outputs": [],
   "source": [
    "# Helper Functions\n",
    "def to_binary(n, N):\n",
    "    \"\"\"\n",
    "    Get binary representation of input n\n",
    "\n",
    "    :param n: Integer of which to get binary representation\n",
    "    :param N: Length of bitstring\n",
    "    :return: str\n",
    "    \"\"\"\n",
    "    return bin(n).replace('0b', '').zfill(N)\n",
    "\n",
    "\n",
    "def get_w_hat_t_helper(row_idx, col_idx, N):\n",
    "    \"\"\"\n",
    "    Helper function to get entry (t, col_idx) of W-H matrix\n",
    "\n",
    "    :param row_idx: Row index of W-H matrix to find\n",
    "    :param col_idx: Column index of W-H matrix to find\n",
    "    :param N: Order of W-H matrix\n",
    "    :return: int\n",
    "    \"\"\"\n",
    "    row_bin = to_binary(row_idx, N)\n",
    "    col_bin = to_binary(col_idx, N)\n",
    "\n",
    "    row_list = [int(row_bit) for row_bit in list(row_bin[::-1])]\n",
    "    col_list = [int(col_bit) for col_bit in list(col_bin[::-1])]\n",
    "\n",
    "    result = 0\n",
    "    for row_bit, col_bit in zip(row_list, col_list):\n",
    "        result += row_bit * col_bit\n",
    "\n",
    "    result = int((1 + ((-1) ** result)) / 2)\n",
    "#     return (2 * result) - 1\n",
    "    return result\n",
    "\n",
    "def get_x_vector(N, K):\n",
    "    \"\"\"\n",
    "    Return x from given order of WH matrix and K\n",
    "\n",
    "    :param N: Order of WH matrix\n",
    "    :param K: Number of ones\n",
    "    :return: numpy.ndarray\n",
    "    \"\"\"\n",
    "    x = np.zeros(N)\n",
    "    random_pos = np.random.choice(\n",
    "        np.arange(0, N), K, replace=False\n",
    "    )\n",
    "    x[random_pos] = 1\n",
    "    return x\n",
    "\n",
    "def get_w_hat_t(t_idx: int) -> list:\n",
    "    \"\"\"\n",
    "    Get t-th row of W-H matrix of order _N\n",
    "\n",
    "    :param t_idx: Index of row in W-H matrix\n",
    "    :return: list\n",
    "    \"\"\"\n",
    "    row = []\n",
    "    for i in range(N):\n",
    "        row.append(get_w_hat_t_helper(t_idx, i, N))\n",
    "\n",
    "    return row"
   ]
  },
  {
   "cell_type": "code",
   "execution_count": 117,
   "metadata": {},
   "outputs": [
    {
     "name": "stderr",
     "output_type": "stream",
     "text": [
      "  0%|          | 0/64 [00:00<?, ?it/s]"
     ]
    },
    {
     "name": "stdout",
     "output_type": "stream",
     "text": [
      "Original x: [0. 0. 0. 0. 0. 0. 0. 0. 1. 0. 0. 0. 0. 0. 0. 0. 0. 0. 0. 1. 0. 0. 0. 0.\n",
      " 1. 0. 0. 0. 0. 0. 0. 0. 0. 0. 0. 0. 1. 0. 0. 0. 0. 0. 0. 0. 0. 1. 0. 0.\n",
      " 0. 0. 0. 0. 0. 0. 1. 1. 0. 0. 0. 0. 1. 0. 0. 0.]\n",
      "--------------\n"
     ]
    },
    {
     "name": "stderr",
     "output_type": "stream",
     "text": [
      "\n"
     ]
    },
    {
     "ename": "TypeError",
     "evalue": "type numpy.ndarray doesn't define __round__ method",
     "output_type": "error",
     "traceback": [
      "\u001b[0;31m---------------------------------------------------------------------------\u001b[0m",
      "\u001b[0;31mTypeError\u001b[0m                                 Traceback (most recent call last)",
      "\u001b[0;32m<ipython-input-117-d795efea9e79>\u001b[0m in \u001b[0;36m<module>\u001b[0;34m\u001b[0m\n\u001b[1;32m     41\u001b[0m \u001b[0;34m\u001b[0m\u001b[0m\n\u001b[1;32m     42\u001b[0m \u001b[0;32mfor\u001b[0m \u001b[0mi\u001b[0m \u001b[0;32min\u001b[0m \u001b[0mtqdm\u001b[0m\u001b[0;34m(\u001b[0m\u001b[0mrange\u001b[0m\u001b[0;34m(\u001b[0m\u001b[0;36m1\u001b[0m\u001b[0;34m,\u001b[0m \u001b[0mN\u001b[0m \u001b[0;34m+\u001b[0m \u001b[0;36m1\u001b[0m\u001b[0;34m)\u001b[0m\u001b[0;34m)\u001b[0m\u001b[0;34m:\u001b[0m\u001b[0;34m\u001b[0m\u001b[0;34m\u001b[0m\u001b[0m\n\u001b[0;32m---> 43\u001b[0;31m     \u001b[0mx_tilde\u001b[0m \u001b[0;34m=\u001b[0m \u001b[0mx_sample_rows\u001b[0m\u001b[0;34m(\u001b[0m\u001b[0mi\u001b[0m\u001b[0;34m)\u001b[0m\u001b[0;34m\u001b[0m\u001b[0;34m\u001b[0m\u001b[0m\n\u001b[0m\u001b[1;32m     44\u001b[0m     \u001b[0mdiff\u001b[0m\u001b[0;34m.\u001b[0m\u001b[0mappend\u001b[0m\u001b[0;34m(\u001b[0m\u001b[0mx_tilde\u001b[0m\u001b[0;34m.\u001b[0m\u001b[0mdot\u001b[0m\u001b[0;34m(\u001b[0m\u001b[0mx\u001b[0m\u001b[0;34m)\u001b[0m \u001b[0;34m/\u001b[0m \u001b[0;34m(\u001b[0m\u001b[0mnp\u001b[0m\u001b[0;34m.\u001b[0m\u001b[0mlinalg\u001b[0m\u001b[0;34m.\u001b[0m\u001b[0mnorm\u001b[0m\u001b[0;34m(\u001b[0m\u001b[0mx_tilde\u001b[0m\u001b[0;34m)\u001b[0m \u001b[0;34m*\u001b[0m \u001b[0mnp\u001b[0m\u001b[0;34m.\u001b[0m\u001b[0mlinalg\u001b[0m\u001b[0;34m.\u001b[0m\u001b[0mnorm\u001b[0m\u001b[0;34m(\u001b[0m\u001b[0mx\u001b[0m\u001b[0;34m)\u001b[0m\u001b[0;34m)\u001b[0m\u001b[0;34m)\u001b[0m\u001b[0;34m\u001b[0m\u001b[0;34m\u001b[0m\u001b[0m\n\u001b[1;32m     45\u001b[0m \u001b[0;34m\u001b[0m\u001b[0m\n",
      "\u001b[0;32m<ipython-input-117-d795efea9e79>\u001b[0m in \u001b[0;36mx_sample_rows\u001b[0;34m(n_rows)\u001b[0m\n\u001b[1;32m     34\u001b[0m         \u001b[0my\u001b[0m\u001b[0;34m.\u001b[0m\u001b[0mappend\u001b[0m\u001b[0;34m(\u001b[0m\u001b[0mcurr_y\u001b[0m\u001b[0;34m)\u001b[0m\u001b[0;34m\u001b[0m\u001b[0;34m\u001b[0m\u001b[0m\n\u001b[1;32m     35\u001b[0m \u001b[0;31m#         x_tilde = W_hat_inv.dot(y)\u001b[0m\u001b[0;34m\u001b[0m\u001b[0;34m\u001b[0m\u001b[0;34m\u001b[0m\u001b[0m\n\u001b[0;32m---> 36\u001b[0;31m         \u001b[0mx_tilde\u001b[0m \u001b[0;34m=\u001b[0m \u001b[0mround\u001b[0m\u001b[0;34m(\u001b[0m\u001b[0mW_hat_inv\u001b[0m\u001b[0;34m.\u001b[0m\u001b[0mdot\u001b[0m\u001b[0;34m(\u001b[0m\u001b[0my\u001b[0m\u001b[0;34m)\u001b[0m\u001b[0;34m)\u001b[0m \u001b[0;31m# round numbers better\u001b[0m\u001b[0;34m\u001b[0m\u001b[0;34m\u001b[0m\u001b[0m\n\u001b[0m\u001b[1;32m     37\u001b[0m     \u001b[0minv\u001b[0m\u001b[0;34m.\u001b[0m\u001b[0mappend\u001b[0m\u001b[0;34m(\u001b[0m\u001b[0mW_hat_inv\u001b[0m\u001b[0;34m)\u001b[0m\u001b[0;34m\u001b[0m\u001b[0;34m\u001b[0m\u001b[0m\n\u001b[1;32m     38\u001b[0m     \u001b[0;32mreturn\u001b[0m \u001b[0mx_tilde\u001b[0m\u001b[0;34m\u001b[0m\u001b[0;34m\u001b[0m\u001b[0m\n",
      "\u001b[0;31mTypeError\u001b[0m: type numpy.ndarray doesn't define __round__ method"
     ]
    }
   ],
   "source": [
    "# TODO Come up with better loss function related to pseudoinverses\n",
    "# TODO Round numbers better (handle 0.5)\n",
    "\n",
    "import numpy as np\n",
    "import matplotlib.pyplot as plt\n",
    "from tqdm import tqdm\n",
    "# np.random.seed(0)\n",
    "\n",
    "K = 8\n",
    "N = 64\n",
    "\n",
    "x = np.zeros(N)\n",
    "random_pos = np.random.choice(np.arange(0, N), K, replace=False)\n",
    "x[random_pos] = 1\n",
    "\n",
    "# Get Walsh-Hadamard\n",
    "wh = [get_w_hat_t(i) for i in range(N)]\n",
    "print(f'Original x: {x}')\n",
    "print('--------------')\n",
    "\n",
    "inv = []\n",
    "\n",
    "def x_sample_rows(n_rows):\n",
    "    W_hat = np.empty((0, N))\n",
    "\n",
    "    y = []\n",
    "    np.random.seed(0)\n",
    "    row_pos = np.random.choice(np.arange(0, N), n_rows, replace=False)\n",
    "\n",
    "    for row_idx in row_pos:\n",
    "        W_hat = np.vstack([W_hat, wh[row_idx]]) # stack of rows\n",
    "        W_hat_inv = np.linalg.pinv(W_hat)\n",
    "        curr_y = x.dot(wh[row_idx])\n",
    "        y.append(curr_y)\n",
    "#         x_tilde = W_hat_inv.dot(y)\n",
    "        x_tilde = np.round(W_hat_inv.dot(y)) # rounds numbers to nearest even integer\n",
    "    inv.append(W_hat_inv)\n",
    "    return x_tilde\n",
    "\n",
    "diff = []\n",
    "\n",
    "for i in tqdm(range(1, N + 1)):\n",
    "    x_tilde = x_sample_rows(i)\n",
    "    diff.append(x_tilde.dot(x) / (np.linalg.norm(x_tilde) * np.linalg.norm(x)))\n",
    "\n",
    "\n",
    "plt.plot(diff)\n",
    "plt.xlabel('Number of Rows to Generate x_tilde')\n",
    "plt.ylabel('Loss')\n",
    "# plt.axvline(int(K * np.log2(N) / np.log2(K)), c='r', alpha=0.4)\n",
    "plt.title(f'Closeness to True x: K = {K}, N = {N}')\n",
    "plt.show()"
   ]
  },
  {
   "cell_type": "code",
   "execution_count": null,
   "metadata": {},
   "outputs": [],
   "source": []
  }
 ],
 "metadata": {
  "kernelspec": {
   "display_name": "Python 3.8.5 64-bit",
   "language": "python",
   "name": "python38564bit40f31465e77c45df95a515d1a253e522"
  },
  "language_info": {
   "codemirror_mode": {
    "name": "ipython",
    "version": 3
   },
   "file_extension": ".py",
   "mimetype": "text/x-python",
   "name": "python",
   "nbconvert_exporter": "python",
   "pygments_lexer": "ipython3",
   "version": "3.8.5"
  }
 },
 "nbformat": 4,
 "nbformat_minor": 4
}
