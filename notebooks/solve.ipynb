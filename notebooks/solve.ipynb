{
 "cells": [
  {
   "cell_type": "markdown",
   "metadata": {},
   "source": [
    "# Current Problem Statement\n",
    "I am on a gameshow, and the host has an unknown $\\vec{x}$. I am trying to uncover that $\\vec{x}$. He samples one row $\n",
    "\\vec{w_1}^T=[w_{11}, w_{12}, ..., w_{1n}]$ from the Walsh matrix without replacement and multiplies it with that $\\vec{x}$ to get $\\vec{y_1}$, which is now a scalar, since he sampled one row. I try to find all $\\tilde{x}$ such that $\\vec{w_1}\\tilde{x}=\\vec{y_1}$ is satisfied. I must end up with at most $_{n}C_{k}$ $\\tilde{x}$'s, including one that is actually equal to $x$. I keep these all in a pool. Then, the host samples another row, forming the matrix: \n",
    "\n",
    "$\\hat{W}=\\begin{bmatrix}\n",
    "\\vec{w_1}^T \\\\\n",
    "\\vec{w_2}^T\n",
    "\\end{bmatrix}$\n",
    "\n",
    "Select the $\\tilde{x}$'s from the set we have that are consistent with $\\hat{W}{\\vec{x}}={\\vec{y_2}}$. We should have less than $_{n}C_{k}$ solutions. However, once the host samples $\\frac{klog_{2}(N)}{log_{2}(K)}$ rows, we should only have one unique solution, which is the correct $x$. If we don't, this is an unsuccessful run.\n",
    "\n",
    "Later, develop a deep policy/reinforcement learning network that can cleverly sample rows of the Walsh matrix such that $x$ is uncovered at the optimal time.\n",
    "\n",
    "\n",
    "# Naive Solution\n",
    "Below, we check every possible solution to $\\hat{W}{\\vec{x}}={\\vec{y}}$ on each iteration. The computation explodes at around $K=16$."
   ]
  },
  {
   "cell_type": "code",
   "execution_count": 114,
   "metadata": {},
   "outputs": [],
   "source": [
    "import itertools\n",
    "import numpy as np\n",
    "import matplotlib.pyplot as plt\n",
    "import seaborn as sns\n",
    "from math import factorial, ceil\n",
    "from tqdm.auto import trange, tqdm"
   ]
  },
  {
   "cell_type": "code",
   "execution_count": 115,
   "metadata": {},
   "outputs": [
    {
     "name": "stdout",
     "output_type": "stream",
     "text": [
      "Number of possible x vectors: 12\n"
     ]
    },
    {
     "data": {
      "application/vnd.jupyter.widget-view+json": {
       "model_id": "ae7db7315e7346b59a7d42d890f89e87",
       "version_major": 2,
       "version_minor": 0
      },
      "text/plain": [
       "HBox(children=(IntProgress(value=0, max=50), HTML(value='')))"
      ]
     },
     "metadata": {},
     "output_type": "display_data"
    },
    {
     "name": "stdout",
     "output_type": "stream",
     "text": [
      "x = [0. 1. 1. 0.]\n",
      "y_2 = [0. 2.]\n",
      "y_3 = [0. 2. 1.]\n",
      "y_4 = [0. 2. 1. 1.]\n",
      "x = [1. 0. 0. 1.]\n",
      "y_2 = [2. 1.]\n",
      "y_3 = [2. 1. 2.]\n",
      "y_4 = [2. 1. 2. 1.]\n",
      "x = [1. 0. 1. 0.]\n",
      "y_2 = [1. 2.]\n",
      "y_3 = [1. 2. 2.]\n",
      "y_4 = [1. 2. 2. 1.]\n",
      "x = [0. 1. 1. 0.]\n",
      "y_2 = [0. 1.]\n",
      "y_3 = [0. 1. 1.]\n",
      "y_4 = [0. 1. 1. 2.]\n",
      "x = [0. 1. 1. 0.]\n",
      "y_2 = [2. 1.]\n",
      "y_3 = [2. 1. 0.]\n",
      "y_4 = [2. 1. 0. 1.]\n",
      "x = [1. 0. 1. 0.]\n",
      "y_2 = [1. 2.]\n",
      "y_3 = [1. 2. 1.]\n",
      "y_4 = [1. 2. 1. 2.]\n",
      "x = [1. 0. 0. 1.]\n",
      "y_2 = [2. 1.]\n",
      "y_3 = [2. 1. 2.]\n",
      "y_4 = [2. 1. 2. 1.]\n",
      "x = [1. 0. 1. 0.]\n",
      "y_2 = [2. 1.]\n",
      "y_3 = [2. 1. 2.]\n",
      "y_4 = [2. 1. 2. 1.]\n",
      "x = [1. 1. 0. 0.]\n",
      "y_2 = [2. 1.]\n",
      "y_3 = [2. 1. 2.]\n",
      "y_4 = [2. 1. 2. 1.]\n",
      "x = [0. 1. 0. 1.]\n",
      "y_2 = [2. 1.]\n",
      "y_3 = [2. 1. 0.]\n",
      "y_4 = [2. 1. 0. 1.]\n",
      "x = [1. 0. 0. 1.]\n",
      "y_2 = [1. 2.]\n",
      "y_3 = [1. 2. 2.]\n",
      "y_4 = [1. 2. 2. 1.]\n",
      "x = [0. 0. 1. 1.]\n",
      "y_2 = [2. 0.]\n",
      "y_3 = [2. 0. 1.]\n",
      "y_4 = [2. 0. 1. 1.]\n",
      "x = [0. 1. 0. 1.]\n",
      "y_2 = [0. 1.]\n",
      "y_3 = [0. 1. 2.]\n",
      "y_4 = [0. 1. 2. 1.]\n",
      "x = [0. 1. 0. 1.]\n",
      "y_2 = [0. 1.]\n",
      "y_3 = [0. 1. 1.]\n",
      "y_4 = [0. 1. 1. 2.]\n",
      "x = [1. 0. 1. 0.]\n",
      "y_2 = [1. 2.]\n",
      "y_3 = [1. 2. 2.]\n",
      "y_4 = [1. 2. 2. 1.]\n",
      "x = [0. 0. 1. 1.]\n",
      "y_2 = [1. 0.]\n",
      "y_3 = [1. 0. 2.]\n",
      "y_4 = [1. 0. 2. 1.]\n",
      "x = [0. 1. 1. 0.]\n",
      "y_2 = [1. 1.]\n",
      "y_3 = [1. 1. 0.]\n",
      "y_4 = [1. 1. 0. 2.]\n",
      "x = [0. 1. 0. 1.]\n",
      "y_2 = [0. 1.]\n",
      "y_3 = [0. 1. 2.]\n",
      "y_4 = [0. 1. 2. 1.]\n",
      "x = [0. 1. 0. 1.]\n",
      "y_2 = [2. 0.]\n",
      "y_3 = [2. 0. 1.]\n",
      "y_4 = [2. 0. 1. 1.]\n",
      "x = [0. 1. 1. 0.]\n",
      "y_2 = [1. 2.]\n",
      "y_3 = [1. 2. 0.]\n",
      "y_4 = [1. 2. 0. 1.]\n",
      "x = [0. 0. 1. 1.]\n",
      "y_2 = [0. 1.]\n",
      "y_3 = [0. 1. 1.]\n",
      "y_4 = [0. 1. 1. 2.]\n",
      "x = [1. 1. 0. 0.]\n",
      "y_2 = [2. 1.]\n",
      "y_3 = [2. 1. 1.]\n",
      "y_4 = [2. 1. 1. 2.]\n",
      "x = [1. 0. 1. 0.]\n",
      "y_2 = [2. 1.]\n",
      "y_3 = [2. 1. 1.]\n",
      "y_4 = [2. 1. 1. 2.]\n",
      "x = [1. 0. 0. 1.]\n",
      "y_2 = [1. 1.]\n",
      "y_3 = [1. 1. 2.]\n",
      "y_4 = [1. 1. 2. 2.]\n",
      "x = [1. 0. 0. 1.]\n",
      "y_2 = [2. 2.]\n",
      "y_3 = [2. 2. 1.]\n",
      "y_4 = [2. 2. 1. 1.]\n",
      "x = [0. 0. 1. 1.]\n",
      "y_2 = [1. 0.]\n",
      "y_3 = [1. 0. 2.]\n",
      "y_4 = [1. 0. 2. 1.]\n",
      "x = [0. 1. 0. 1.]\n",
      "y_2 = [1. 2.]\n",
      "y_3 = [1. 2. 0.]\n",
      "y_4 = [1. 2. 0. 1.]\n",
      "x = [1. 0. 1. 0.]\n",
      "y_2 = [1. 2.]\n",
      "y_3 = [1. 2. 2.]\n",
      "y_4 = [1. 2. 2. 1.]\n",
      "x = [0. 1. 1. 0.]\n",
      "y_2 = [0. 1.]\n",
      "y_3 = [0. 1. 2.]\n",
      "y_4 = [0. 1. 2. 1.]\n",
      "x = [0. 0. 1. 1.]\n",
      "y_2 = [2. 1.]\n",
      "y_3 = [2. 1. 1.]\n",
      "y_4 = [2. 1. 1. 0.]\n",
      "x = [0. 0. 1. 1.]\n",
      "y_2 = [1. 0.]\n",
      "y_3 = [1. 0. 1.]\n",
      "y_4 = [1. 0. 1. 2.]\n",
      "x = [1. 0. 0. 1.]\n",
      "y_2 = [1. 1.]\n",
      "y_3 = [1. 1. 2.]\n",
      "y_4 = [1. 1. 2. 2.]\n",
      "x = [0. 0. 1. 1.]\n",
      "y_2 = [2. 1.]\n",
      "y_3 = [2. 1. 1.]\n",
      "y_4 = [2. 1. 1. 0.]\n",
      "x = [0. 0. 1. 1.]\n",
      "y_2 = [2. 0.]\n",
      "y_3 = [2. 0. 1.]\n",
      "y_4 = [2. 0. 1. 1.]\n",
      "x = [1. 0. 1. 0.]\n",
      "y_2 = [2. 2.]\n",
      "y_3 = [2. 2. 1.]\n",
      "y_4 = [2. 2. 1. 1.]\n",
      "x = [1. 0. 1. 0.]\n",
      "y_2 = [1. 2.]\n",
      "y_3 = [1. 2. 1.]\n",
      "y_4 = [1. 2. 1. 2.]\n",
      "x = [0. 1. 1. 0.]\n",
      "y_2 = [1. 0.]\n",
      "y_3 = [1. 0. 2.]\n",
      "y_4 = [1. 0. 2. 1.]\n",
      "x = [0. 1. 0. 1.]\n",
      "y_2 = [1. 1.]\n",
      "y_3 = [1. 1. 2.]\n",
      "y_4 = [1. 1. 2. 0.]\n",
      "x = [0. 1. 1. 0.]\n",
      "y_2 = [2. 1.]\n",
      "y_3 = [2. 1. 1.]\n",
      "y_4 = [2. 1. 1. 0.]\n",
      "x = [0. 1. 0. 1.]\n",
      "y_2 = [0. 1.]\n",
      "y_3 = [0. 1. 2.]\n",
      "y_4 = [0. 1. 2. 1.]\n",
      "x = [0. 0. 1. 1.]\n",
      "y_2 = [1. 0.]\n",
      "y_3 = [1. 0. 2.]\n",
      "y_4 = [1. 0. 2. 1.]\n",
      "x = [1. 0. 0. 1.]\n",
      "y_2 = [2. 1.]\n",
      "y_3 = [2. 1. 2.]\n",
      "y_4 = [2. 1. 2. 1.]\n",
      "x = [1. 0. 0. 1.]\n",
      "y_2 = [1. 1.]\n",
      "y_3 = [1. 1. 2.]\n",
      "y_4 = [1. 1. 2. 2.]\n",
      "x = [0. 0. 1. 1.]\n",
      "y_2 = [2. 1.]\n",
      "y_3 = [2. 1. 0.]\n",
      "y_4 = [2. 1. 0. 1.]\n",
      "x = [0. 1. 1. 0.]\n",
      "y_2 = [1. 1.]\n",
      "y_3 = [1. 1. 0.]\n",
      "y_4 = [1. 1. 0. 2.]\n",
      "x = [0. 1. 1. 0.]\n",
      "y_2 = [2. 1.]\n",
      "y_3 = [2. 1. 1.]\n",
      "y_4 = [2. 1. 1. 0.]\n",
      "x = [1. 0. 1. 0.]\n",
      "y_2 = [1. 2.]\n",
      "y_3 = [1. 2. 1.]\n",
      "y_4 = [1. 2. 1. 2.]\n",
      "x = [0. 1. 0. 1.]\n",
      "y_2 = [2. 1.]\n",
      "y_3 = [2. 1. 0.]\n",
      "y_4 = [2. 1. 0. 1.]\n",
      "x = [0. 1. 0. 1.]\n",
      "y_2 = [1. 0.]\n",
      "y_3 = [1. 0. 2.]\n",
      "y_4 = [1. 0. 2. 1.]\n",
      "x = [1. 1. 0. 0.]\n",
      "y_2 = [2. 2.]\n",
      "y_3 = [2. 2. 1.]\n",
      "y_4 = [2. 2. 1. 1.]\n",
      "\n",
      "Actual optimal iteration: 4\n",
      "Mean optimal iteration: 2.7\n"
     ]
    },
    {
     "data": {
      "image/png": "[encoded data removed]",
      "text/plain": [
       "<Figure size 576x432 with 1 Axes>"
      ]
     },
     "metadata": {
      "needs_background": "light"
     },
     "output_type": "display_data"
    },
    {
     "data": {
      "image/png": "[encoded data removed]",
      "text/plain": [
       "<Figure size 576x288 with 1 Axes>"
      ]
     },
     "metadata": {
      "needs_background": "light"
     },
     "output_type": "display_data"
    }
   ],
   "source": [
    "# Helper Functions\n",
    "def to_binary(n, N):\n",
    "    \"\"\"\n",
    "    Get binary representation of input n\n",
    "\n",
    "    :param n: Integer of which to get binary representation\n",
    "    :param N: Length of bitstring\n",
    "    :return: str\n",
    "    \"\"\"\n",
    "    return bin(n).replace('0b', '').zfill(N)\n",
    "\n",
    "\n",
    "def get_w_hat_t_helper(row_idx, col_idx, N):\n",
    "    \"\"\"\n",
    "    Helper function to get entry (t, col_idx) of W-H matrix\n",
    "\n",
    "    :param row_idx: Row index of W-H matrix to find\n",
    "    :param col_idx: Column index of W-H matrix to find\n",
    "    :param N: Order of W-H matrix\n",
    "    :return: int\n",
    "    \"\"\"\n",
    "    row_bin = to_binary(row_idx, N)\n",
    "    col_bin = to_binary(col_idx, N)\n",
    "\n",
    "    row_list = [int(row_bit) for row_bit in list(row_bin[::-1])]\n",
    "    col_list = [int(col_bit) for col_bit in list(col_bin[::-1])]\n",
    "\n",
    "    result = 0\n",
    "    for row_bit, col_bit in zip(row_list, col_list):\n",
    "        result += row_bit * col_bit\n",
    "\n",
    "    result = int((1 + ((-1) ** result)) / 2)\n",
    "    return result\n",
    "\n",
    "\n",
    "def get_x_vector(N, K):\n",
    "    \"\"\"\n",
    "    Return x from given order of WH matrix and K\n",
    "\n",
    "    :param N: Order of WH matrix\n",
    "    :param K: Number of ones\n",
    "    :return: numpy.ndarray\n",
    "    \"\"\"\n",
    "    x = np.zeros(N)\n",
    "    random_pos = np.random.choice(\n",
    "        np.arange(0, N), K, replace=False\n",
    "    )\n",
    "    x[random_pos] = 1\n",
    "    return x\n",
    "\n",
    "\n",
    "def get_w_hat_t(t_idx: int, N):\n",
    "    \"\"\"\n",
    "    Get t-th row of W-H matrix of order _N\n",
    "\n",
    "    :param t_idx: Index of row in W-H matrix\n",
    "    :return: list\n",
    "    \"\"\"\n",
    "    row = []\n",
    "    for i in range(N):\n",
    "        row.append(get_w_hat_t_helper(t_idx, i, N))\n",
    "\n",
    "    return row\n",
    "\n",
    "\n",
    "def get_all_1_k_vectors(N, K):\n",
    "    vector = [1] * K + [0] * (N - K)\n",
    "    return list(set(itertools.permutations(vector, N)))\n",
    "\n",
    "\n",
    "def check_x_set(all_x, A, b):\n",
    "    valid_x = set()\n",
    "    for x_vector in all_x:\n",
    "        if (A @ x_vector == b).all():\n",
    "            valid_x.add(x_vector)\n",
    "    \n",
    "    return list(valid_x)\n",
    "\n",
    "\n",
    "def recover_x_naive(N, K):\n",
    "    W = np.array([get_w_hat_t(i, N) for i in range(N)])\n",
    "    x = get_x_vector(N, K)\n",
    "    print(f'x = {x}')\n",
    "\n",
    "    row_pos = np.random.choice(np.arange(0, N), N, replace=False)\n",
    "\n",
    "    # First row sampling\n",
    "    W_hat = W[row_pos[0]]\n",
    "    y = W_hat @ x\n",
    "    all_x = get_all_1_k_vectors(N, K)\n",
    "    valid_solutions = check_x_set(all_x, W_hat, y)\n",
    "    num_solutions = [len(valid_solutions)]\n",
    "    iteration_found = []\n",
    "\n",
    "    for i, row_idx in enumerate(row_pos[1:]):\n",
    "        # Oracle samples row\n",
    "        W_hat = np.vstack((W_hat, W[row_idx]))\n",
    "        y = W_hat @ x\n",
    "        print(f'y_{i + 2} = {y}')\n",
    "        valid_solutions = check_x_set(valid_solutions, W_hat, y)\n",
    "        if len(valid_solutions) == 1:\n",
    "            iteration_found.append(i + 2)\n",
    "        num_solutions.append(len(valid_solutions))\n",
    "    \n",
    "    x_tilde = []\n",
    "    optimum_found = N\n",
    "    \n",
    "    # If x was successfully recovered\n",
    "    if len(valid_solutions) == 1:\n",
    "        x_tilde = list(valid_solutions[0])\n",
    "        optimum_found = iteration_found[0]\n",
    "\n",
    "    opt = ceil(K * np.log2(N) / np.log2(K))\n",
    "    plt.plot(num_solutions, lw=0.3, c='black')\n",
    "    plt.ylabel('Number of Solutions')\n",
    "    plt.xlabel('Number of Iterations')\n",
    "    plt.axvline(opt, c='r')\n",
    "    \n",
    "    return x_tilde, optimum_found\n",
    "    \n",
    "    \n",
    "def plot_recover_x_trials(n, N, K):\n",
    "    plt.figure(figsize=(8, 6))\n",
    "    n_perms = int(factorial(N) / factorial(N - K))\n",
    "    print(f'Number of possible x vectors: {n_perms}')\n",
    "    iteration_found = []\n",
    "    for i in tqdm(range(n)):\n",
    "        x, it = recover_x_naive(N, K)\n",
    "        iteration_found.append(it)\n",
    "    plt.title(f'{n} Trials: N = {N}, K = {K}', fontsize=18)\n",
    "    plt.figure(figsize=(8, 4))\n",
    "    sns.distplot(iteration_found, color='black', hist_kws={'rwidth':0.75})\n",
    "    opt = ceil(K * np.log2(N) / np.log2(K))\n",
    "    plt.axvline(opt, c='r')\n",
    "    plt.title(f'Iterations Found Unique Solution Over {n} Trials', fontsize=18)\n",
    "    plt.xlabel('Iteration Number')\n",
    "    plt.ylabel('Frequency')\n",
    "    print(f'Actual optimal iteration: {opt}')\n",
    "    print(f'Mean optimal iteration: {np.mean(iteration_found)}')\n",
    "        \n",
    "plot_recover_x_trials(50, 4, 2)"
   ]
  },
  {
   "cell_type": "markdown",
   "metadata": {},
   "source": [
    "- N is 16 = 2^4, first 4 (which is log N) measurements\n",
    "- K objects N locations, K = 3, \n",
    "    - Take lowest number location l1, will narrow down the locations to after l1\n",
    "    - Sum up indices\n",
    "    - Take binary expansions of l1, l2, ..., lk. \n",
    "\n",
    "Ex.:\n",
    "- 1 location that has object. Want to know what that location is\n",
    "- Look at binary expansion of every location. First location is 256, so need 8 bit expansion\n",
    "- New matrix W with logN rows, with N columns, each column is binary expansion of the index of the column. W * x, will kill all columns that are 0. Only column surviving is one associated with the true x. y1 is first bit of binary expansion, y2 second bit, and so on...\n",
    "- Will give index of location, turn y2 to l1 + l2, to get location after l1\n",
    "\n",
    "N = 8, K = 1, K = 2\n",
    "Use W-H to write binary expansion of the row sampled\n",
    "\n",
    "- Which row should you sample "
   ]
  },
  {
   "cell_type": "markdown",
   "metadata": {},
   "source": [
    "# Faster Solution\n",
    "The host gives us $\\vec{y}=[y_1,...,y_{logN}]$. Let $s_1,...,s_k$ be the indices of 1 in $\\vec{x}$. Given these locations, we can derive $\\tilde{W}_{logN\\times N}$. We multiply $\\vec{x}$ by $\\tilde{W}$ to get $\\vec{y}$.\n",
    "\n",
    "We want to get the $logN$ rows of the Walsh matrix that are associated with the binary expansion of each $s_i, i\\in{0,...,N-1}$. This is how we derive $\\tilde{W}$.\n",
    "\n",
    "Let $\\sum_{i=1}^{k}s_i=$ scalar form of $\\vec{y}=\\sum_{i=0}^{logN} y_i * 2^i$, from the scalar form of $\\vec{y}$. We will know what all of the locations of the nonzero elements of $\\vec{x}$ add up to. Thus, we receive all options for $\\vec{x}$ that satisfy $W\\vec{x}=\\vec{y}$. This amount of solutions will be the number of ways to add up to sum of all positions of nonzero elements in $\\vec{x}$."
   ]
  },
  {
   "cell_type": "code",
   "execution_count": 97,
   "metadata": {},
   "outputs": [],
   "source": [
    "N = 8\n",
    "K = 4"
   ]
  },
  {
   "cell_type": "code",
   "execution_count": 123,
   "metadata": {},
   "outputs": [
    {
     "data": {
      "text/plain": [
       "array([[1, 0, 1, 0, 1, 0, 1, 0],\n",
       "       [1, 1, 0, 0, 0, 0, 1, 1],\n",
       "       [1, 0, 0, 1, 1, 0, 0, 1]])"
      ]
     },
     "execution_count": 123,
     "metadata": {},
     "output_type": "execute_result"
    }
   ],
   "source": [
    "np.random.seed(0)  # For reproducibility\n",
    "\n",
    "\n",
    "def gen_W_tilde(N):\n",
    "    W_tilde = np.empty((int(np.log2(N)), 0))\n",
    "    for i in range(N):\n",
    "        binary_str = str(to_binary(i, int(np.log2(N))))[::-1]\n",
    "        list_binary_str = ([int(bit) for bit in binary_str])\n",
    "        W_tilde = np.column_stack((W_tilde, list_binary_str))\n",
    "    return W_tilde\n",
    "\n",
    "\n",
    "def scalar(y):\n",
    "    return int(sum([2 ** i * y_i for i, y_i in enumerate(y)]))    \n",
    "\n",
    "        \n",
    "W_tilde = gen_W_tilde(N)  # Game player generates this\n",
    "x = get_x_vector(N, K)  # We don't know this\n",
    "\n",
    "y = W_tilde @ x  # Host gives this\n",
    "positions_sum = scalar(y)  # Therefore we will know this\n",
    "\n",
    "\n",
    "# Pick logN rows of WH matrix\n",
    "def sample_wh(N):\n",
    "    n_rows = int(np.log2(N))\n",
    "    positions = np.random.choice(np.arange(0, N), n_rows, replace=False)\n",
    "    W = np.array([get_w_hat_t(i, N) for i in range(N)])\n",
    "    return W[positions]\n",
    "\n",
    "\n",
    "sampled = sample_wh(N)\n",
    "\n",
    "# Need to find number of ways to add K numbers up to sum of positions, no repetitions\n",
    "\n",
    "sampled"
   ]
  },
  {
   "cell_type": "code",
   "execution_count": 108,
   "metadata": {},
   "outputs": [
    {
     "data": {
      "text/plain": [
       "array([[0., 1., 0., 1., 0., 1., 0., 1.],\n",
       "       [0., 0., 1., 1., 0., 0., 1., 1.],\n",
       "       [0., 0., 0., 0., 1., 1., 1., 1.]])"
      ]
     },
     "execution_count": 108,
     "metadata": {},
     "output_type": "execute_result"
    }
   ],
   "source": [
    "W_tilde"
   ]
  },
  {
   "cell_type": "code",
   "execution_count": 109,
   "metadata": {},
   "outputs": [
    {
     "data": {
      "text/plain": [
       "array([0., 1., 1., 0., 0., 0., 1., 1.])"
      ]
     },
     "execution_count": 109,
     "metadata": {},
     "output_type": "execute_result"
    }
   ],
   "source": [
    "x"
   ]
  },
  {
   "cell_type": "code",
   "execution_count": 110,
   "metadata": {},
   "outputs": [
    {
     "data": {
      "text/plain": [
       "array([2., 3., 2.])"
      ]
     },
     "execution_count": 110,
     "metadata": {},
     "output_type": "execute_result"
    }
   ],
   "source": [
    "y"
   ]
  },
  {
   "cell_type": "code",
   "execution_count": 111,
   "metadata": {},
   "outputs": [
    {
     "data": {
      "text/plain": [
       "16"
      ]
     },
     "execution_count": 111,
     "metadata": {},
     "output_type": "execute_result"
    }
   ],
   "source": [
    "positions_sum"
   ]
  },
  {
   "cell_type": "code",
   "execution_count": 112,
   "metadata": {},
   "outputs": [
    {
     "data": {
      "text/plain": [
       "array([1, 2, 6, 7])"
      ]
     },
     "execution_count": 112,
     "metadata": {},
     "output_type": "execute_result"
    }
   ],
   "source": [
    "positions = np.where(x == 1)[0]\n",
    "positions"
   ]
  },
  {
   "cell_type": "code",
   "execution_count": 106,
   "metadata": {},
   "outputs": [
    {
     "data": {
      "text/plain": [
       "array([2., 3., 1.])"
      ]
     },
     "execution_count": 106,
     "metadata": {},
     "output_type": "execute_result"
    }
   ],
   "source": [
    "sampled @ x"
   ]
  },
  {
   "cell_type": "code",
   "execution_count": null,
   "metadata": {},
   "outputs": [],
   "source": []
  }
 ],
 "metadata": {
  "kernelspec": {
   "display_name": "Python 3",
   "language": "python",
   "name": "python3"
  },
  "language_info": {
   "codemirror_mode": {
    "name": "ipython",
    "version": 3
   },
   "file_extension": ".py",
   "mimetype": "text/x-python",
   "name": "python",
   "nbconvert_exporter": "python",
   "pygments_lexer": "ipython3",
   "version": "3.8.5"
  }
 },
 "nbformat": 4,
 "nbformat_minor": 4
}
