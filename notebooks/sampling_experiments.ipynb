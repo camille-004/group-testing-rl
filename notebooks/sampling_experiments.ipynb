{
 "cells": [
  {
   "cell_type": "code",
   "execution_count": 63,
   "outputs": [],
   "source": [
    "import numpy as np\n",
    "\n",
    "import ground_truth as gt"
   ],
   "metadata": {
    "collapsed": false,
    "pycharm": {
     "name": "#%%\n"
    }
   }
  },
  {
   "cell_type": "code",
   "execution_count": 64,
   "outputs": [],
   "source": [
    "np.random.seed(0)\n",
    "N = 8\n",
    "K = 2\n",
    "\n",
    "x = gt.get_x_vector(N, K)"
   ],
   "metadata": {
    "collapsed": false,
    "pycharm": {
     "name": "#%%\n"
    }
   }
  },
  {
   "cell_type": "code",
   "execution_count": 65,
   "outputs": [
    {
     "name": "stdout",
     "output_type": "stream",
     "text": [
      "x = [0. 0. 1. 0. 0. 0. 1. 0.]\n",
      "Scalar value = 8\n",
      "True scalar value: 8\n",
      "\n",
      "True W_hat: \n",
      "[[0. 1. 0. 1. 0. 1. 0. 1.]\n",
      " [0. 0. 1. 1. 0. 0. 1. 1.]\n",
      " [0. 0. 0. 0. 1. 1. 1. 1.]\n",
      " [1. 0. 0. 1. 1. 0. 0. 1.]]\n"
     ]
    }
   ],
   "source": [
    "true_W_hat = gt.get_true_W_hat(N, K, x)\n",
    "print(f'True scalar value: {gt.scalar(true_W_hat @ x)}\\n')\n",
    "print(f'True W_hat: \\n{true_W_hat}')"
   ],
   "metadata": {
    "collapsed": false,
    "pycharm": {
     "name": "#%%\n"
    }
   }
  },
  {
   "cell_type": "code",
   "execution_count": 79,
   "outputs": [
    {
     "name": "stdout",
     "output_type": "stream",
     "text": [
      "False\n"
     ]
    },
    {
     "data": {
      "text/plain": "16"
     },
     "execution_count": 79,
     "metadata": {},
     "output_type": "execute_result"
    }
   ],
   "source": [
    "W_hat = gt.gen_W_hat(N)\n",
    "W = np.array([gt.get_w_hat_t(i, N) for i in range(N)])\n",
    "to_remove = gt.get_W_hat_rows(W, W_hat)\n",
    "W = np.delete(W, to_remove, 0)\n",
    "\n",
    "# Sample a random remaining row from W\n",
    "rand_idx = np.random.choice(np.arange(0, len(W)), 1, replace=False)[0]\n",
    "\n",
    "W_hat = np.append(W_hat, [W[rand_idx]], 0)\n",
    "\n",
    "print(np.all(W_hat == true_W_hat))\n",
    "gt.scalar(W_hat @ x)"
   ],
   "metadata": {
    "collapsed": false,
    "pycharm": {
     "name": "#%%\n"
    }
   }
  },
  {
   "cell_type": "code",
   "execution_count": 79,
   "outputs": [],
   "source": [],
   "metadata": {
    "collapsed": false,
    "pycharm": {
     "name": "#%%\n"
    }
   }
  },
  {
   "cell_type": "code",
   "execution_count": null,
   "outputs": [],
   "source": [],
   "metadata": {
    "collapsed": false,
    "pycharm": {
     "name": "#%%\n"
    }
   }
  }
 ],
 "metadata": {
  "orig_nbformat": 4,
  "language_info": {
   "name": "python",
   "version": "3.7.9",
   "mimetype": "text/x-python",
   "codemirror_mode": {
    "name": "ipython",
    "version": 3
   },
   "pygments_lexer": "ipython3",
   "nbconvert_exporter": "python",
   "file_extension": ".py"
  },
  "kernelspec": {
   "name": "pycharm-68be0457",
   "language": "python",
   "display_name": "PyCharm (neural-machine-translation)"
  },
  "interpreter": {
   "hash": "aee8b7b246df8f9039afb4144a1f6fd8d2ca17a180786b69acc140d282b71a49"
  }
 },
 "nbformat": 4,
 "nbformat_minor": 2
}